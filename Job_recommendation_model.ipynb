{
  "nbformat": 4,
  "nbformat_minor": 0,
  "metadata": {
    "colab": {
      "provenance": [],
      "authorship_tag": "ABX9TyOijWmscminMTSFCdDo+T5T",
      "include_colab_link": true
    },
    "kernelspec": {
      "name": "python3",
      "display_name": "Python 3"
    },
    "language_info": {
      "name": "python"
    }
  },
  "cells": [
    {
      "cell_type": "markdown",
      "metadata": {
        "id": "view-in-github",
        "colab_type": "text"
      },
      "source": [
        "<a href=\"https://colab.research.google.com/github/JAK0707/Job-recommendation-model/blob/main/Job_recommendation_model.ipynb\" target=\"_parent\"><img src=\"https://colab.research.google.com/assets/colab-badge.svg\" alt=\"Open In Colab\"/></a>"
      ]
    },
    {
      "cell_type": "code",
      "execution_count": null,
      "metadata": {
        "colab": {
          "base_uri": "https://localhost:8080/"
        },
        "id": "u0Y_h7dn5DOE",
        "outputId": "8a848474-b41e-4ad5-e55f-969b16520a90"
      },
      "outputs": [
        {
          "output_type": "stream",
          "name": "stdout",
          "text": [
            "Requirement already satisfied: pandas in /usr/local/lib/python3.10/dist-packages (2.1.4)\n",
            "Requirement already satisfied: scikit-learn in /usr/local/lib/python3.10/dist-packages (1.3.2)\n",
            "Requirement already satisfied: numpy<2,>=1.22.4 in /usr/local/lib/python3.10/dist-packages (from pandas) (1.26.4)\n",
            "Requirement already satisfied: python-dateutil>=2.8.2 in /usr/local/lib/python3.10/dist-packages (from pandas) (2.8.2)\n",
            "Requirement already satisfied: pytz>=2020.1 in /usr/local/lib/python3.10/dist-packages (from pandas) (2024.1)\n",
            "Requirement already satisfied: tzdata>=2022.1 in /usr/local/lib/python3.10/dist-packages (from pandas) (2024.1)\n",
            "Requirement already satisfied: scipy>=1.5.0 in /usr/local/lib/python3.10/dist-packages (from scikit-learn) (1.13.1)\n",
            "Requirement already satisfied: joblib>=1.1.1 in /usr/local/lib/python3.10/dist-packages (from scikit-learn) (1.4.2)\n",
            "Requirement already satisfied: threadpoolctl>=2.0.0 in /usr/local/lib/python3.10/dist-packages (from scikit-learn) (3.5.0)\n",
            "Requirement already satisfied: six>=1.5 in /usr/local/lib/python3.10/dist-packages (from python-dateutil>=2.8.2->pandas) (1.16.0)\n"
          ]
        }
      ],
      "source": [
        "!pip install pandas scikit-learn"
      ]
    },
    {
      "cell_type": "code",
      "source": [
        "import pandas as pd\n",
        "import re\n",
        "\n",
        "# Load the dataset\n",
        "from google.colab import files\n",
        "uploaded = files.upload()\n",
        "\n",
        "file_name = 'job_skills.csv'\n",
        "data = pd.read_csv(file_name)"
      ],
      "metadata": {
        "colab": {
          "base_uri": "https://localhost:8080/",
          "height": 73
        },
        "id": "KWg72T705LvA",
        "outputId": "cd26443d-b954-4197-91cc-52021b41e850"
      },
      "execution_count": null,
      "outputs": [
        {
          "output_type": "display_data",
          "data": {
            "text/plain": [
              "<IPython.core.display.HTML object>"
            ],
            "text/html": [
              "\n",
              "     <input type=\"file\" id=\"files-8a2961f6-2224-48a0-ad76-694bd4914e20\" name=\"files[]\" multiple disabled\n",
              "        style=\"border:none\" />\n",
              "     <output id=\"result-8a2961f6-2224-48a0-ad76-694bd4914e20\">\n",
              "      Upload widget is only available when the cell has been executed in the\n",
              "      current browser session. Please rerun this cell to enable.\n",
              "      </output>\n",
              "      <script>// Copyright 2017 Google LLC\n",
              "//\n",
              "// Licensed under the Apache License, Version 2.0 (the \"License\");\n",
              "// you may not use this file except in compliance with the License.\n",
              "// You may obtain a copy of the License at\n",
              "//\n",
              "//      http://www.apache.org/licenses/LICENSE-2.0\n",
              "//\n",
              "// Unless required by applicable law or agreed to in writing, software\n",
              "// distributed under the License is distributed on an \"AS IS\" BASIS,\n",
              "// WITHOUT WARRANTIES OR CONDITIONS OF ANY KIND, either express or implied.\n",
              "// See the License for the specific language governing permissions and\n",
              "// limitations under the License.\n",
              "\n",
              "/**\n",
              " * @fileoverview Helpers for google.colab Python module.\n",
              " */\n",
              "(function(scope) {\n",
              "function span(text, styleAttributes = {}) {\n",
              "  const element = document.createElement('span');\n",
              "  element.textContent = text;\n",
              "  for (const key of Object.keys(styleAttributes)) {\n",
              "    element.style[key] = styleAttributes[key];\n",
              "  }\n",
              "  return element;\n",
              "}\n",
              "\n",
              "// Max number of bytes which will be uploaded at a time.\n",
              "const MAX_PAYLOAD_SIZE = 100 * 1024;\n",
              "\n",
              "function _uploadFiles(inputId, outputId) {\n",
              "  const steps = uploadFilesStep(inputId, outputId);\n",
              "  const outputElement = document.getElementById(outputId);\n",
              "  // Cache steps on the outputElement to make it available for the next call\n",
              "  // to uploadFilesContinue from Python.\n",
              "  outputElement.steps = steps;\n",
              "\n",
              "  return _uploadFilesContinue(outputId);\n",
              "}\n",
              "\n",
              "// This is roughly an async generator (not supported in the browser yet),\n",
              "// where there are multiple asynchronous steps and the Python side is going\n",
              "// to poll for completion of each step.\n",
              "// This uses a Promise to block the python side on completion of each step,\n",
              "// then passes the result of the previous step as the input to the next step.\n",
              "function _uploadFilesContinue(outputId) {\n",
              "  const outputElement = document.getElementById(outputId);\n",
              "  const steps = outputElement.steps;\n",
              "\n",
              "  const next = steps.next(outputElement.lastPromiseValue);\n",
              "  return Promise.resolve(next.value.promise).then((value) => {\n",
              "    // Cache the last promise value to make it available to the next\n",
              "    // step of the generator.\n",
              "    outputElement.lastPromiseValue = value;\n",
              "    return next.value.response;\n",
              "  });\n",
              "}\n",
              "\n",
              "/**\n",
              " * Generator function which is called between each async step of the upload\n",
              " * process.\n",
              " * @param {string} inputId Element ID of the input file picker element.\n",
              " * @param {string} outputId Element ID of the output display.\n",
              " * @return {!Iterable<!Object>} Iterable of next steps.\n",
              " */\n",
              "function* uploadFilesStep(inputId, outputId) {\n",
              "  const inputElement = document.getElementById(inputId);\n",
              "  inputElement.disabled = false;\n",
              "\n",
              "  const outputElement = document.getElementById(outputId);\n",
              "  outputElement.innerHTML = '';\n",
              "\n",
              "  const pickedPromise = new Promise((resolve) => {\n",
              "    inputElement.addEventListener('change', (e) => {\n",
              "      resolve(e.target.files);\n",
              "    });\n",
              "  });\n",
              "\n",
              "  const cancel = document.createElement('button');\n",
              "  inputElement.parentElement.appendChild(cancel);\n",
              "  cancel.textContent = 'Cancel upload';\n",
              "  const cancelPromise = new Promise((resolve) => {\n",
              "    cancel.onclick = () => {\n",
              "      resolve(null);\n",
              "    };\n",
              "  });\n",
              "\n",
              "  // Wait for the user to pick the files.\n",
              "  const files = yield {\n",
              "    promise: Promise.race([pickedPromise, cancelPromise]),\n",
              "    response: {\n",
              "      action: 'starting',\n",
              "    }\n",
              "  };\n",
              "\n",
              "  cancel.remove();\n",
              "\n",
              "  // Disable the input element since further picks are not allowed.\n",
              "  inputElement.disabled = true;\n",
              "\n",
              "  if (!files) {\n",
              "    return {\n",
              "      response: {\n",
              "        action: 'complete',\n",
              "      }\n",
              "    };\n",
              "  }\n",
              "\n",
              "  for (const file of files) {\n",
              "    const li = document.createElement('li');\n",
              "    li.append(span(file.name, {fontWeight: 'bold'}));\n",
              "    li.append(span(\n",
              "        `(${file.type || 'n/a'}) - ${file.size} bytes, ` +\n",
              "        `last modified: ${\n",
              "            file.lastModifiedDate ? file.lastModifiedDate.toLocaleDateString() :\n",
              "                                    'n/a'} - `));\n",
              "    const percent = span('0% done');\n",
              "    li.appendChild(percent);\n",
              "\n",
              "    outputElement.appendChild(li);\n",
              "\n",
              "    const fileDataPromise = new Promise((resolve) => {\n",
              "      const reader = new FileReader();\n",
              "      reader.onload = (e) => {\n",
              "        resolve(e.target.result);\n",
              "      };\n",
              "      reader.readAsArrayBuffer(file);\n",
              "    });\n",
              "    // Wait for the data to be ready.\n",
              "    let fileData = yield {\n",
              "      promise: fileDataPromise,\n",
              "      response: {\n",
              "        action: 'continue',\n",
              "      }\n",
              "    };\n",
              "\n",
              "    // Use a chunked sending to avoid message size limits. See b/62115660.\n",
              "    let position = 0;\n",
              "    do {\n",
              "      const length = Math.min(fileData.byteLength - position, MAX_PAYLOAD_SIZE);\n",
              "      const chunk = new Uint8Array(fileData, position, length);\n",
              "      position += length;\n",
              "\n",
              "      const base64 = btoa(String.fromCharCode.apply(null, chunk));\n",
              "      yield {\n",
              "        response: {\n",
              "          action: 'append',\n",
              "          file: file.name,\n",
              "          data: base64,\n",
              "        },\n",
              "      };\n",
              "\n",
              "      let percentDone = fileData.byteLength === 0 ?\n",
              "          100 :\n",
              "          Math.round((position / fileData.byteLength) * 100);\n",
              "      percent.textContent = `${percentDone}% done`;\n",
              "\n",
              "    } while (position < fileData.byteLength);\n",
              "  }\n",
              "\n",
              "  // All done.\n",
              "  yield {\n",
              "    response: {\n",
              "      action: 'complete',\n",
              "    }\n",
              "  };\n",
              "}\n",
              "\n",
              "scope.google = scope.google || {};\n",
              "scope.google.colab = scope.google.colab || {};\n",
              "scope.google.colab._files = {\n",
              "  _uploadFiles,\n",
              "  _uploadFilesContinue,\n",
              "};\n",
              "})(self);\n",
              "</script> "
            ]
          },
          "metadata": {}
        },
        {
          "output_type": "stream",
          "name": "stdout",
          "text": [
            "Saving job_skills.csv to job_skills.csv\n"
          ]
        }
      ]
    },
    {
      "cell_type": "code",
      "source": [
        "# Function to clean text\n",
        "def clean_text(text):\n",
        "    if isinstance(text, str):\n",
        "        # Convert text to lowercase\n",
        "        text = text.lower()\n",
        "        # Remove special characters and numbers\n",
        "        text = re.sub(r'[^a-z\\s]', '', text)\n",
        "        return text\n",
        "    return ''"
      ],
      "metadata": {
        "id": "V_-IpxPX5YEf"
      },
      "execution_count": null,
      "outputs": []
    },
    {
      "cell_type": "code",
      "source": [
        "# Apply text cleaning to relevant columns\n",
        "data['Responsibilities'] = data['Responsibilities'].apply(clean_text)\n",
        "data['Minimum Qualifications'] = data['Minimum Qualifications'].apply(clean_text)\n",
        "data['Preferred Qualifications'] = data['Preferred Qualifications'].apply(clean_text)"
      ],
      "metadata": {
        "id": "5L00z8BC5mDV"
      },
      "execution_count": null,
      "outputs": []
    },
    {
      "cell_type": "code",
      "source": [
        "# Step 3: Extract Skills\n",
        "# Define a list of common skills\n",
        "common_skills = [\n",
        "    \"python\", \"java\", \"c++\", \"javascript\", \"sql\", \"machine learning\",\n",
        "    \"deep learning\", \"data analysis\", \"project management\", \"communication\",\n",
        "    \"leadership\", \"teamwork\", \"problem-solving\", \"cloud computing\",\n",
        "    \"networking\", \"security\", \"software development\", \"data science\",\n",
        "    \"engineering\", \"mathematics\", \"statistics\", \"artificial intelligence\"\n",
        "]\n",
        "\n",
        "def extract_skills(text):\n",
        "    if isinstance(text, str):\n",
        "        found_skills = [skill for skill in common_skills if skill in text]\n",
        "        return ', '.join(found_skills)\n",
        "    return ''"
      ],
      "metadata": {
        "id": "ktH262Qu5tCK"
      },
      "execution_count": null,
      "outputs": []
    },
    {
      "cell_type": "code",
      "source": [
        "# Apply skill extraction to relevant columns\n",
        "data['Skills_Responsibilities'] = data['Responsibilities'].apply(extract_skills)\n",
        "data['Skills_Minimum'] = data['Minimum Qualifications'].apply(extract_skills)\n",
        "data['Skills_Preferred'] = data['Preferred Qualifications'].apply(extract_skills)"
      ],
      "metadata": {
        "id": "nZLMUmAU5wfJ"
      },
      "execution_count": null,
      "outputs": []
    },
    {
      "cell_type": "code",
      "source": [
        "# Combine all extracted skills into one column\n",
        "data['All_Skills'] = data[['Skills_Responsibilities', 'Skills_Minimum', 'Skills_Preferred']].apply(lambda x: ', '.join(set(', '.join(x).split(', '))), axis=1)"
      ],
      "metadata": {
        "id": "Rjj8LNQC5y77"
      },
      "execution_count": null,
      "outputs": []
    },
    {
      "cell_type": "code",
      "source": [
        "# Step 4: Train a Model\n",
        "# Feature Engineering\n",
        "# Here we will convert the skills into a binary feature vector for model training\n",
        "from sklearn.feature_extraction.text import CountVectorizer\n",
        "\n",
        "vectorizer = CountVectorizer(tokenizer=lambda x: x.split(', '), binary=True)\n",
        "X = vectorizer.fit_transform(data['All_Skills'])\n",
        "\n",
        "# For demonstration purposes, we'll use job titles as labels (you can change this)\n",
        "y = data['Title']"
      ],
      "metadata": {
        "colab": {
          "base_uri": "https://localhost:8080/"
        },
        "id": "ECaHXHZV53DT",
        "outputId": "55abd8f3-0a81-4efe-e8b1-8e04085d2972"
      },
      "execution_count": null,
      "outputs": [
        {
          "output_type": "stream",
          "name": "stderr",
          "text": [
            "/usr/local/lib/python3.10/dist-packages/sklearn/feature_extraction/text.py:525: UserWarning: The parameter 'token_pattern' will not be used since 'tokenizer' is not None'\n",
            "  warnings.warn(\n"
          ]
        }
      ]
    },
    {
      "cell_type": "code",
      "source": [
        "# Train a Model\n",
        "from sklearn.model_selection import train_test_split\n",
        "from sklearn.naive_bayes import MultinomialNB\n",
        "from sklearn.metrics import accuracy_score\n",
        "\n",
        "# Split the data\n",
        "X_train, X_test, y_train, y_test = train_test_split(X, y, test_size=0.2, random_state=42)\n",
        "\n",
        "# Train the model\n",
        "model = MultinomialNB()\n",
        "model.fit(X_train, y_train)"
      ],
      "metadata": {
        "colab": {
          "base_uri": "https://localhost:8080/",
          "height": 74
        },
        "id": "VYmY5pLJ59Wb",
        "outputId": "b78ecd1d-081d-4a01-fc9a-b958f9fcf893"
      },
      "execution_count": null,
      "outputs": [
        {
          "output_type": "execute_result",
          "data": {
            "text/plain": [
              "MultinomialNB()"
            ],
            "text/html": [
              "<style>#sk-container-id-1 {color: black;}#sk-container-id-1 pre{padding: 0;}#sk-container-id-1 div.sk-toggleable {background-color: white;}#sk-container-id-1 label.sk-toggleable__label {cursor: pointer;display: block;width: 100%;margin-bottom: 0;padding: 0.3em;box-sizing: border-box;text-align: center;}#sk-container-id-1 label.sk-toggleable__label-arrow:before {content: \"▸\";float: left;margin-right: 0.25em;color: #696969;}#sk-container-id-1 label.sk-toggleable__label-arrow:hover:before {color: black;}#sk-container-id-1 div.sk-estimator:hover label.sk-toggleable__label-arrow:before {color: black;}#sk-container-id-1 div.sk-toggleable__content {max-height: 0;max-width: 0;overflow: hidden;text-align: left;background-color: #f0f8ff;}#sk-container-id-1 div.sk-toggleable__content pre {margin: 0.2em;color: black;border-radius: 0.25em;background-color: #f0f8ff;}#sk-container-id-1 input.sk-toggleable__control:checked~div.sk-toggleable__content {max-height: 200px;max-width: 100%;overflow: auto;}#sk-container-id-1 input.sk-toggleable__control:checked~label.sk-toggleable__label-arrow:before {content: \"▾\";}#sk-container-id-1 div.sk-estimator input.sk-toggleable__control:checked~label.sk-toggleable__label {background-color: #d4ebff;}#sk-container-id-1 div.sk-label input.sk-toggleable__control:checked~label.sk-toggleable__label {background-color: #d4ebff;}#sk-container-id-1 input.sk-hidden--visually {border: 0;clip: rect(1px 1px 1px 1px);clip: rect(1px, 1px, 1px, 1px);height: 1px;margin: -1px;overflow: hidden;padding: 0;position: absolute;width: 1px;}#sk-container-id-1 div.sk-estimator {font-family: monospace;background-color: #f0f8ff;border: 1px dotted black;border-radius: 0.25em;box-sizing: border-box;margin-bottom: 0.5em;}#sk-container-id-1 div.sk-estimator:hover {background-color: #d4ebff;}#sk-container-id-1 div.sk-parallel-item::after {content: \"\";width: 100%;border-bottom: 1px solid gray;flex-grow: 1;}#sk-container-id-1 div.sk-label:hover label.sk-toggleable__label {background-color: #d4ebff;}#sk-container-id-1 div.sk-serial::before {content: \"\";position: absolute;border-left: 1px solid gray;box-sizing: border-box;top: 0;bottom: 0;left: 50%;z-index: 0;}#sk-container-id-1 div.sk-serial {display: flex;flex-direction: column;align-items: center;background-color: white;padding-right: 0.2em;padding-left: 0.2em;position: relative;}#sk-container-id-1 div.sk-item {position: relative;z-index: 1;}#sk-container-id-1 div.sk-parallel {display: flex;align-items: stretch;justify-content: center;background-color: white;position: relative;}#sk-container-id-1 div.sk-item::before, #sk-container-id-1 div.sk-parallel-item::before {content: \"\";position: absolute;border-left: 1px solid gray;box-sizing: border-box;top: 0;bottom: 0;left: 50%;z-index: -1;}#sk-container-id-1 div.sk-parallel-item {display: flex;flex-direction: column;z-index: 1;position: relative;background-color: white;}#sk-container-id-1 div.sk-parallel-item:first-child::after {align-self: flex-end;width: 50%;}#sk-container-id-1 div.sk-parallel-item:last-child::after {align-self: flex-start;width: 50%;}#sk-container-id-1 div.sk-parallel-item:only-child::after {width: 0;}#sk-container-id-1 div.sk-dashed-wrapped {border: 1px dashed gray;margin: 0 0.4em 0.5em 0.4em;box-sizing: border-box;padding-bottom: 0.4em;background-color: white;}#sk-container-id-1 div.sk-label label {font-family: monospace;font-weight: bold;display: inline-block;line-height: 1.2em;}#sk-container-id-1 div.sk-label-container {text-align: center;}#sk-container-id-1 div.sk-container {/* jupyter's `normalize.less` sets `[hidden] { display: none; }` but bootstrap.min.css set `[hidden] { display: none !important; }` so we also need the `!important` here to be able to override the default hidden behavior on the sphinx rendered scikit-learn.org. See: https://github.com/scikit-learn/scikit-learn/issues/21755 */display: inline-block !important;position: relative;}#sk-container-id-1 div.sk-text-repr-fallback {display: none;}</style><div id=\"sk-container-id-1\" class=\"sk-top-container\"><div class=\"sk-text-repr-fallback\"><pre>MultinomialNB()</pre><b>In a Jupyter environment, please rerun this cell to show the HTML representation or trust the notebook. <br />On GitHub, the HTML representation is unable to render, please try loading this page with nbviewer.org.</b></div><div class=\"sk-container\" hidden><div class=\"sk-item\"><div class=\"sk-estimator sk-toggleable\"><input class=\"sk-toggleable__control sk-hidden--visually\" id=\"sk-estimator-id-1\" type=\"checkbox\" checked><label for=\"sk-estimator-id-1\" class=\"sk-toggleable__label sk-toggleable__label-arrow\">MultinomialNB</label><div class=\"sk-toggleable__content\"><pre>MultinomialNB()</pre></div></div></div></div></div>"
            ]
          },
          "metadata": {},
          "execution_count": 9
        }
      ]
    },
    {
      "cell_type": "code",
      "source": [
        "\n",
        "# Step 5: Implement Resume Parsing and Matching\n",
        "# Function to parse resume and extract skills\n",
        "def parse_resume(resume_text):\n",
        "    resume_text = clean_text(resume_text)\n",
        "    found_skills = [skill for skill in common_skills if skill in resume_text]\n",
        "    return ', '.join(found_skills)\n",
        "\n",
        "# Function to match resume skills with job listing skills\n",
        "def match_skills(resume_skills, job_skills):\n",
        "    resume_skills_set = set(resume_skills.split(', '))\n",
        "    job_skills_set = set(job_skills.split(', '))\n",
        "    matched_skills = resume_skills_set.intersection(job_skills_set)\n",
        "    return ', '.join(matched_skills), len(matched_skills)\n",
        "\n",
        "# Function to get skills required by a specific company\n",
        "def get_company_skills(company_name):\n",
        "    company_jobs = data[data['Company'].str.lower() == company_name.lower()]\n",
        "    all_skills = ', '.join(company_jobs['All_Skills'])\n",
        "    unique_skills = set(all_skills.split(', '))\n",
        "    return ', '.join(unique_skills)"
      ],
      "metadata": {
        "id": "PibiarO06K_n"
      },
      "execution_count": null,
      "outputs": []
    },
    {
      "cell_type": "code",
      "source": [
        "# Step 4: Train a Model\n",
        "# Feature Engineering\n",
        "# Here we will convert the skills into a binary feature vector for model training\n",
        "from sklearn.feature_extraction.text import CountVectorizer\n",
        "\n",
        "def custom_tokenizer(text):\n",
        "    return text.split(', ')\n",
        "\n",
        "vectorizer = CountVectorizer(tokenizer=custom_tokenizer, binary=True)\n",
        "X = vectorizer.fit_transform(data['All_Skills'])\n",
        "\n",
        "# For demonstration purposes, we'll use job titles as labels (you can change this)\n",
        "y = data['Title']\n",
        "\n",
        "# ... rest of your code ...\n",
        "\n",
        "# Save the model\n",
        "import joblib\n",
        "joblib.dump(model, 'job_matching_model.pkl')\n",
        "joblib.dump(vectorizer, 'vectorizer.pkl') # This should now work without errors"
      ],
      "metadata": {
        "colab": {
          "base_uri": "https://localhost:8080/"
        },
        "id": "9w-JYlYr6VfN",
        "outputId": "288e6f69-eb60-4a87-e7ff-a7a676e8297e"
      },
      "execution_count": null,
      "outputs": [
        {
          "output_type": "stream",
          "name": "stderr",
          "text": [
            "/usr/local/lib/python3.10/dist-packages/sklearn/feature_extraction/text.py:525: UserWarning: The parameter 'token_pattern' will not be used since 'tokenizer' is not None'\n",
            "  warnings.warn(\n"
          ]
        },
        {
          "output_type": "execute_result",
          "data": {
            "text/plain": [
              "['vectorizer.pkl']"
            ]
          },
          "metadata": {},
          "execution_count": 13
        }
      ]
    },
    {
      "cell_type": "code",
      "source": [
        "# Example Resume Text (for demonstration purposes)\n",
        "resume_text_example = \"\"\"\n",
        "Experienced software developer with expertise in python, java, and machine learning.\n",
        "Proven ability to manage projects and communicate effectively within a team environment.\n",
        "\"\"\"\n",
        "\n",
        "# Extract skills from the example resume text\n",
        "resume_skills = parse_resume(resume_text_example)\n",
        "\n",
        "# Match skills with a job listing (for demonstration, using the first job listing in the dataset)\n",
        "matched_skills, num_matched_skills = match_skills(resume_skills, data['All_Skills'].iloc[0])\n",
        "print(f'Resume Skills: {resume_skills}')\n",
        "print(f'Matched Skills: {matched_skills} ({num_matched_skills})')\n",
        "\n",
        "# Get skills required by a specific company (e.g., Google)\n",
        "company_skills = get_company_skills('Google')\n",
        "print(f'Skills required by Google: {company_skills}')\n"
      ],
      "metadata": {
        "colab": {
          "base_uri": "https://localhost:8080/"
        },
        "id": "jkYThjxI_XzY",
        "outputId": "aacb0d6a-83d6-4d1e-9804-e04641d94d4a"
      },
      "execution_count": null,
      "outputs": [
        {
          "output_type": "stream",
          "name": "stdout",
          "text": [
            "Resume Skills: python, java, machine learning\n",
            "Matched Skills:  (0)\n",
            "Skills required by Google: , communication, machine learning, artificial intelligence, security, teamwork, java, mathematics, leadership, javascript, data science, sql, project management, python, engineering, data analysis, cloud computing, networking, statistics, software development\n"
          ]
        }
      ]
    },
    {
      "cell_type": "code",
      "source": [
        "def match_skills(resume_skills, job_skills):\n",
        "    resume_skills_set = set(resume_skills.split(', '))\n",
        "    job_skills_set = set(job_skills.split(', '))\n",
        "    matched_skills = resume_skills_set.intersection(job_skills_set)\n",
        "    return ', '.join(matched_skills), len(matched_skills)"
      ],
      "metadata": {
        "id": "WAqXf25-_dse"
      },
      "execution_count": null,
      "outputs": []
    },
    {
      "cell_type": "code",
      "source": [
        "# Example Resume Text (for demonstration purposes)\n",
        "resume_text_example = \"\"\"\n",
        "Experienced software developer with expertise in Python, Java,and machine learning.\n",
        "Proven ability to manage projects and communicate effectively within a team environment.\n",
        "\"\"\"\n",
        "\n",
        "# Extract skills from the example resume text\n",
        "resume_skills = parse_resume(resume_text_example)\n",
        "\n",
        "# Match skills with a job listing (for demonstration, using the first job listing in the dataset)\n",
        "job_listing_skills = data['All_Skills'].iloc[0]\n",
        "matched_skills, num_matched_skills = match_skills(resume_skills, job_listing_skills)\n",
        "\n",
        "print(f'Resume Skills: {resume_skills}')\n",
        "print(f'Job Listing Skills: {job_listing_skills}')\n",
        "print(f'Matched Skills: {matched_skills} ({num_matched_skills})')\n"
      ],
      "metadata": {
        "colab": {
          "base_uri": "https://localhost:8080/"
        },
        "id": "WMn1Z4aFANch",
        "outputId": "47cecc30-f65e-44a1-a5b8-49dfdf92b135"
      },
      "execution_count": null,
      "outputs": [
        {
          "output_type": "stream",
          "name": "stdout",
          "text": [
            "Resume Skills: python, java, machine learning\n",
            "Job Listing Skills: communication, engineering, project management, cloud computing\n",
            "Matched Skills:  (0)\n"
          ]
        }
      ]
    },
    {
      "cell_type": "code",
      "source": [
        "# Assuming the previous steps of loading the dataset and defining functions are already completed\n",
        "\n",
        "# Define a sample resume text\n",
        "resume_text_example = \"\"\"\n",
        "Experienced software developer with expertise in Python, Java, and machine learning.\n",
        "Proven ability to manage projects and communicate effectively within a team environment.\n",
        "\"\"\"\n",
        "\n",
        "# Function to parse resume and extract skills\n",
        "def parse_resume(resume_text):\n",
        "    resume_text = clean_text(resume_text)\n",
        "    found_skills = [skill for skill in common_skills if skill in resume_text]\n",
        "    return ', '.join(found_skills)\n",
        "\n",
        "# Extract skills from the example resume text\n",
        "resume_skills = parse_resume(resume_text_example)\n",
        "\n",
        "# Function to get skills required by a specific company\n",
        "def get_company_skills(company_name):\n",
        "    company_jobs = data[data['Company'].str.lower() == company_name.lower()]\n",
        "    all_skills = ', '.join(company_jobs['All_Skills'])\n",
        "    unique_skills = set(all_skills.split(', '))\n",
        "    return ', '.join(unique_skills)\n",
        "\n",
        "# Get skills required by Google\n",
        "company_name = 'Google'\n",
        "company_skills = get_company_skills(company_name)\n",
        "\n",
        "# Match skills with the resume\n",
        "matched_skills, num_matched_skills = match_skills(resume_skills, company_skills)\n",
        "\n",
        "# Print the results\n",
        "print(f'Resume Skills: {resume_skills}')\n",
        "print(f'{company_name} Skills: {company_skills}')\n",
        "print(f'Matched Skills: {matched_skills} ({num_matched_skills})')\n"
      ],
      "metadata": {
        "colab": {
          "base_uri": "https://localhost:8080/"
        },
        "id": "YJrDuLKLAP5i",
        "outputId": "8bf6be2d-f020-47a4-c636-733f092ecd8b"
      },
      "execution_count": null,
      "outputs": [
        {
          "output_type": "stream",
          "name": "stdout",
          "text": [
            "Resume Skills: python, java, machine learning\n",
            "Google Skills: , communication, machine learning, artificial intelligence, security, teamwork, java, mathematics, leadership, javascript, data science, sql, project management, python, engineering, data analysis, cloud computing, networking, statistics, software development\n",
            "Matched Skills: python, machine learning, java (3)\n"
          ]
        }
      ]
    },
    {
      "cell_type": "code",
      "source": [
        "# Assuming the previous steps of loading the dataset, defining functions, and training the model are already completed\n",
        "\n",
        "# Example Resume Text (for demonstration purposes)\n",
        "resume_text_example = \"\"\"\n",
        "Experienced software developer with expertise in Python, Java, and machine learning.\n",
        "Proven ability to manage projects and communicate effectively within a team environment.\n",
        "\"\"\"\n",
        "\n",
        "# Function to parse resume and extract skills\n",
        "def parse_resume(resume_text):\n",
        "    resume_text = clean_text(resume_text)\n",
        "    found_skills = [skill for skill in common_skills if skill in resume_text]\n",
        "    return ', '.join(found_skills)\n",
        "\n",
        "# Extract skills from the example resume text\n",
        "resume_skills = parse_resume(resume_text_example)\n",
        "\n",
        "# Transform resume skills using the vectorizer\n",
        "resume_skills_vectorized = vectorizer.transform([resume_skills])\n",
        "\n",
        "# Predict job titles using the trained model\n",
        "predicted_job_titles = model.predict(resume_skills_vectorized)\n",
        "\n",
        "# Get skills required by a specific company\n",
        "def get_company_skills(company_name):\n",
        "    company_jobs = data[data['Company'].str.lower() == company_name.lower()]\n",
        "    all_skills = ', '.join(company_jobs['All_Skills'])\n",
        "    unique_skills = set(all_skills.split(', '))\n",
        "    return ', '.join(unique_skills)\n",
        "\n",
        "# Get skills required by Google\n",
        "company_name = 'Google'\n",
        "company_skills = get_company_skills(company_name)\n",
        "\n",
        "# Match skills with the resume\n",
        "matched_skills, num_matched_skills = match_skills(resume_skills, company_skills)\n",
        "\n",
        "# Print the results\n",
        "print(f'Resume Skills: {resume_skills}')\n",
        "print(f'Predicted Job Titles: {predicted_job_titles}')\n",
        "print(f'{company_name} Skills: {company_skills}')\n",
        "print(f'Matched Skills: {matched_skills} ({num_matched_skills})')\n"
      ],
      "metadata": {
        "colab": {
          "base_uri": "https://localhost:8080/"
        },
        "id": "HFurqrDtAz-X",
        "outputId": "b3ecc565-79dd-4ebe-caf1-fa11b69ee069"
      },
      "execution_count": null,
      "outputs": [
        {
          "output_type": "stream",
          "name": "stdout",
          "text": [
            "Resume Skills: python, java, machine learning\n",
            "Predicted Job Titles: ['Strategic Cloud Engineer, Google Cloud Professional Services']\n",
            "Google Skills: , communication, machine learning, artificial intelligence, security, teamwork, java, mathematics, leadership, javascript, data science, sql, project management, python, engineering, data analysis, cloud computing, networking, statistics, software development\n",
            "Matched Skills: python, machine learning, java (3)\n"
          ]
        }
      ]
    },
    {
      "cell_type": "code",
      "source": [],
      "metadata": {
        "id": "jv1KpNMZCczp"
      },
      "execution_count": null,
      "outputs": []
    }
  ]
}